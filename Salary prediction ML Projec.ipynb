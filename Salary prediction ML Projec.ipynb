{
 "cells": [
  {
   "cell_type": "code",
   "execution_count": 2,
   "metadata": {},
   "outputs": [
    {
     "name": "stdout",
     "output_type": "stream",
     "text": [
      "Welcome to Salary Prediction System\n",
      "Press ENTER key to proceed\n",
      "\n",
      "Creating Dataset\n",
      "Dataset created\n",
      "Enter test data size (between 0 and 1)0.5\n",
      "Model creation in progression\n",
      "Model is created\n",
      "Press ENTER key to predict test data in trained model\n",
      "\n",
      "[[ 9.5]\n",
      " [ 3.2]\n",
      " [ 2. ]\n",
      " [10.3]\n",
      " [ 4.9]\n",
      " [ 8.7]\n",
      " [ 5.1]\n",
      " [ 4.1]\n",
      " [ 1.3]\n",
      " [ 2.2]\n",
      " [ 4. ]\n",
      " [ 3. ]\n",
      " [ 7.9]\n",
      " [ 5.9]\n",
      " [ 7.1]]   ... [116969.  54445.  43525. 122391.  67938. 109431.  66029.  57081.  46205.\n",
      "  39891.  56957.  60150. 101302.  81363.  98273.]   ... [115696.30854674  57317.18884101  46197.35651611 123109.53009668\n",
      "  73070.28463462 108283.08699681  74923.5900221   65657.06308469\n",
      "  39710.78765992  48050.66190359  64730.41039094  55463.88345353\n",
      " 100869.86544687  82336.81157204  93456.64389694]\n",
      "[9.5] ... 116969.0 ... 115696.30854674138\n",
      "[3.2] ... 54445.0 ... 57317.188841010066\n",
      "[2.] ... 43525.0 ... 46197.356516108855\n",
      "[10.3] ... 122391.0 ... 123109.53009667553\n",
      "[4.9] ... 67938.0 ... 73070.2846346201\n",
      "[8.7] ... 109431.0 ... 108283.08699680725\n",
      "[5.1] ... 66029.0 ... 74923.59002210363\n",
      "[4.1] ... 57081.0 ... 65657.06308468597\n",
      "[1.3] ... 46205.0 ... 39710.78765991649\n",
      "[2.2] ... 39891.0 ... 48050.661903592394\n",
      "[4.] ... 56957.0 ... 64730.4103909442\n",
      "[3.] ... 60150.0 ... 55463.88345352653\n",
      "[7.9] ... 101302.0 ... 100869.86544687313\n",
      "[5.9] ... 81363.0 ... 82336.81157203778\n",
      "[7.1] ... 98273.0 ... 93456.64389693897\n",
      "Press ENTER key to see above result in graphical format\n",
      "\n"
     ]
    },
    {
     "data": {
      "image/png": "[encoded data removed]",
      "text/plain": [
       "<Figure size 432x288 with 1 Axes>"
      ]
     },
     "metadata": {
      "needs_background": "light"
     },
     "output_type": "display_data"
    },
    {
     "name": "stdout",
     "output_type": "stream",
     "text": [
      "Model is 96.22% accurate\n",
      "Now you can predict salary of an employee using our model\n",
      "\n",
      "Enter experience in years of the candidates, separated by comma\n",
      "5,10,25\n"
     ]
    },
    {
     "data": {
      "image/png": "[encoded data removed]",
      "text/plain": [
       "<Figure size 432x288 with 1 Axes>"
      ]
     },
     "metadata": {
      "needs_background": "light"
     },
     "output_type": "display_data"
    },
    {
     "name": "stdout",
     "output_type": "stream",
     "text": [
      "   Experience       Salaries\n",
      "0         5.0   73996.937328\n",
      "1        10.0  120329.572015\n",
      "2        25.0  259327.476077\n",
      "\n"
     ]
    }
   ],
   "source": [
    "import os\n",
    "import numpy as np\n",
    "import pandas as pd\n",
    "import matplotlib.pyplot as plt\n",
    "from sklearn.model_selection import train_test_split\n",
    "from sklearn.linear_model import LinearRegression\n",
    "from sklearn.metrics import r2_score\n",
    "def welcome():\n",
    "    print(\"Welcome to Salary Prediction System\")\n",
    "    print(\"Press ENTER key to proceed\")\n",
    "    input()\n",
    "def graph(X_train,Y_train,regressionObject,X_test,Y_test,Y_pred):\n",
    "    plt.scatter(X_train,Y_train,color='red',label='training data')\n",
    "    plt.plot(X_train,regressionObject.predict(X_train),color='blue',label='Best Fit')\n",
    "    plt.scatter(X_test,Y_test,color='green',label='test data')\n",
    "    plt.scatter(X_test,Y_pred,color='black',label='Pred test data')\n",
    "    plt.title(\"Salary vs Experience\")\n",
    "    plt.xlabel('Years of Experience')\n",
    "    plt.ylabel('Salary')\n",
    "    plt.legend()\n",
    "    plt.show()\n",
    "def main():\n",
    "    welcome()\n",
    "    try:\n",
    "        print('Creating Dataset')\n",
    "        dataset=pd.read_csv('Salary_Data.csv')\n",
    "        print('Dataset created')\n",
    "        X=dataset.iloc[:,:-1].values\n",
    "        Y=dataset.iloc[:,-1].values\n",
    "        s=float(input(\"Enter test data size (between 0 and 1)\") )\n",
    "        X_train,X_test,Y_train,Y_test=train_test_split(X,Y,test_size=s)\n",
    "        print(\"Model creation in progression\")\n",
    "        regressionObject=LinearRegression()\n",
    "        regressionObject.fit(X_train,Y_train)\n",
    "        print(\"Model is created\")\n",
    "        print(\"Press ENTER key to predict test data in trained model\")\n",
    "        input()\n",
    "\n",
    "        Y_pred=regressionObject.predict(X_test)\n",
    "        i=0\n",
    "        print(X_test,'  ...',Y_test,'  ...',Y_pred)\n",
    "        while i<len(X_test):\n",
    "            print(X_test[i],'...',Y_test[i],'...',Y_pred[i])\n",
    "            i+=1\n",
    "        print(\"Press ENTER key to see above result in graphical format\")\n",
    "        input()\n",
    "        graph(X_train,Y_train, regressionObject, X_test, Y_test, Y_pred)\n",
    "        r2=r2_score(Y_test,Y_pred)\n",
    "        print(\"Model is %2.2f%% accurate\" %(r2*100))\n",
    "\n",
    "        print(\"Now you can predict salary of an employee using our model\")\n",
    "        print(\"\\nEnter experience in years of the candidates, separated by comma\")\n",
    "\n",
    "        exp=[float(e) for e in input().split(',')]\n",
    "        ex=[]\n",
    "        for x in exp:\n",
    "            ex.append([x])\n",
    "        experience =np.array(ex)\n",
    "        salaries=regressionObject.predict(experience)\n",
    "\n",
    "        plt.scatter(experience,salaries,color='black')\n",
    "        plt.xlabel('Years of Experience')\n",
    "        plt.ylabel('Salaries')\n",
    "        plt.show()\n",
    "\n",
    "        d=pd.DataFrame({'Experience':exp,'Salaries':salaries})\n",
    "        print(d)\n",
    "        \n",
    "    except FileNotFoundError:\n",
    "        print('No csv file in the directory')\n",
    "        print(\"Press ENTER key to exit\")\n",
    "        input()\n",
    "        exit()\n",
    "\n",
    "if __name__==\"__main__\":\n",
    "    main()\n",
    "    input()\n"
   ]
  },
  {
   "cell_type": "code",
   "execution_count": null,
   "metadata": {},
   "outputs": [],
   "source": []
  },
  {
   "cell_type": "code",
   "execution_count": null,
   "metadata": {},
   "outputs": [],
   "source": []
  }
 ],
 "metadata": {
  "kernelspec": {
   "display_name": "Python 3",
   "language": "python",
   "name": "python3"
  },
  "language_info": {
   "codemirror_mode": {
    "name": "ipython",
    "version": 3
   },
   "file_extension": ".py",
   "mimetype": "text/x-python",
   "name": "python",
   "nbconvert_exporter": "python",
   "pygments_lexer": "ipython3",
   "version": "3.7.3"
  }
 },
 "nbformat": 4,
 "nbformat_minor": 2
}
